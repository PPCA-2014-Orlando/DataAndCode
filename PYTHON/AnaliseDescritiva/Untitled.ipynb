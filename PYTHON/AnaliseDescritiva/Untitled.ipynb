{
 "cells": [
  {
   "cell_type": "code",
   "execution_count": 32,
   "metadata": {
    "collapsed": false
   },
   "outputs": [
    {
     "data": {
      "text/plain": [
       "nomefluxo                             category\n",
       "situacaosolicitacao                   category\n",
       "idsolicitacao                            int64\n",
       "agrupamento                              int64\n",
       "atividade                             category\n",
       "transicaoatividade                    category\n",
       "areaexecucaoatividade                 category\n",
       "papelexecucaoatividade                  object\n",
       "nomerecursoexecucaoatividade            object\n",
       "datahoraeventolog               datetime64[ns]\n",
       "gruposervico                          category\n",
       "servico                               category\n",
       "operacaoservico                       category\n",
       "tiposolicitacao                       category\n",
       "prioridade                               int64\n",
       "origemsolicitacao                     category\n",
       "tempoatendimentoslaservico             float64\n",
       "tempoatendimentoslachamado             float64\n",
       "arearesponsavelservico                category\n",
       "dtype: object"
      ]
     },
     "execution_count": 32,
     "metadata": {},
     "output_type": "execute_result"
    }
   ],
   "source": [
    "dadoslogs.dtypes"
   ]
  }
 ],
 "metadata": {
  "kernelspec": {
   "display_name": "Python 2",
   "language": "python",
   "name": "python2"
  },
  "language_info": {
   "codemirror_mode": {
    "name": "ipython",
    "version": 2
   },
   "file_extension": ".py",
   "mimetype": "text/x-python",
   "name": "python",
   "nbconvert_exporter": "python",
   "pygments_lexer": "ipython2",
   "version": "2.7.11"
  }
 },
 "nbformat": 4,
 "nbformat_minor": 0
}
