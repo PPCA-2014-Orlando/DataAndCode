{
 "cells": [
  {
   "cell_type": "markdown",
   "metadata": {},
   "source": [
    "# APLICAR TÉCNICA DE CLUSTERIZAÇÃO PARA AGRUPAR OS SERVIÇOS DO CATÁLOGO POR SMILARIDADE"
   ]
  },
  {
   "cell_type": "markdown",
   "metadata": {},
   "source": [
    "* __Serão utilizadas as variáveis operação de serviço, tempo médio de atendimento e tipo de solicitação__\n"
   ]
  },
  {
   "cell_type": "code",
   "execution_count": 72,
   "metadata": {
    "collapsed": false
   },
   "outputs": [],
   "source": [
    "import sys  \n",
    "\n",
    "reload(sys)  \n",
    "sys.setdefaultencoding('utf8')\n",
    "\n",
    "de = sys.getdefaultencoding()\n",
    "print de"
   ]
  },
  {
   "cell_type": "code",
   "execution_count": 77,
   "metadata": {
    "collapsed": false
   },
   "outputs": [
    {
     "data": {
      "text/plain": [
       "idsolicitacao                  int64\n",
       "situacaofinalsolicitacao    category\n",
       "gruposervico                category\n",
       "servico                     category\n",
       "operacaoservico             category\n",
       "tiposolicitacao             category\n",
       "arearesponsavelservico      category\n",
       "duracaoHoras                 float64\n",
       "dtype: object"
      ]
     },
     "execution_count": 77,
     "metadata": {},
     "output_type": "execute_result"
    }
   ],
   "source": [
    "solicitacoes.dtypes"
   ]
  },
  {
   "cell_type": "code",
   "execution_count": 86,
   "metadata": {
    "collapsed": false
   },
   "outputs": [
    {
     "data": {
      "text/html": [
       "<div>\n",
       "<table border=\"1\" class=\"dataframe\">\n",
       "  <thead>\n",
       "    <tr style=\"text-align: right;\">\n",
       "      <th></th>\n",
       "      <th>idsolicitacao</th>\n",
       "      <th>situacaofinalsolicitacao</th>\n",
       "      <th>gruposervico</th>\n",
       "      <th>servico</th>\n",
       "      <th>operacaoservico</th>\n",
       "      <th>tiposolicitacao</th>\n",
       "      <th>arearesponsavelservico</th>\n",
       "      <th>duracaoHoras</th>\n",
       "    </tr>\n",
       "  </thead>\n",
       "  <tbody>\n",
       "    <tr>\n",
       "      <th>0</th>\n",
       "      <td>3031</td>\n",
       "      <td>FECHADA</td>\n",
       "      <td>APLICAÇÕES</td>\n",
       "      <td>PONTO DA SOF</td>\n",
       "      <td>DIAGNOSTICAR ERROS E FALHAS</td>\n",
       "      <td>INCIDENTE</td>\n",
       "      <td>CIT-SISTEMAS</td>\n",
       "      <td>1.7858</td>\n",
       "    </tr>\n",
       "    <tr>\n",
       "      <th>1</th>\n",
       "      <td>3032</td>\n",
       "      <td>FECHADA</td>\n",
       "      <td>E-MAIL</td>\n",
       "      <td>EXPRESSO V3</td>\n",
       "      <td>DIAGNOSTICAR ERROS E FALHAS</td>\n",
       "      <td>INCIDENTE</td>\n",
       "      <td>CIT-SISTEMAS</td>\n",
       "      <td>1.7692</td>\n",
       "    </tr>\n",
       "    <tr>\n",
       "      <th>2</th>\n",
       "      <td>3033</td>\n",
       "      <td>FECHADA</td>\n",
       "      <td>APLICAÇÕES</td>\n",
       "      <td>SEI (SISTEMA ELETRÔNICO DE INFORMAÇÕES)</td>\n",
       "      <td>CADASTRAR USUÁRIO</td>\n",
       "      <td>REQUISIÇÃO</td>\n",
       "      <td>CIT-SISTEMAS</td>\n",
       "      <td>24.5168</td>\n",
       "    </tr>\n",
       "    <tr>\n",
       "      <th>3</th>\n",
       "      <td>3034</td>\n",
       "      <td>CANCELADA</td>\n",
       "      <td>ARMAZENAMENTO DE DADOS</td>\n",
       "      <td>SERVIDOR DE ARQUIVOS (PDCMP)</td>\n",
       "      <td>CONFIGURACAO DO ARMAZENAMENTO</td>\n",
       "      <td>REQUISIÇÃO</td>\n",
       "      <td>DTI-SUPORTE</td>\n",
       "      <td>1403.5436</td>\n",
       "    </tr>\n",
       "    <tr>\n",
       "      <th>4</th>\n",
       "      <td>3037</td>\n",
       "      <td>FECHADA</td>\n",
       "      <td>SUPORTE</td>\n",
       "      <td>ESTAÇÃO DE TRABALHO</td>\n",
       "      <td>TROCAR MOUSE</td>\n",
       "      <td>REQUISIÇÃO</td>\n",
       "      <td>CIT-PRES-DF</td>\n",
       "      <td>74.7758</td>\n",
       "    </tr>\n",
       "  </tbody>\n",
       "</table>\n",
       "</div>"
      ],
      "text/plain": [
       "   idsolicitacao situacaofinalsolicitacao            gruposervico  \\\n",
       "0           3031                  FECHADA              APLICA├ç├òES   \n",
       "1           3032                  FECHADA                  E-MAIL   \n",
       "2           3033                  FECHADA              APLICA├ç├òES   \n",
       "3           3034                CANCELADA  ARMAZENAMENTO DE DADOS   \n",
       "4           3037                  FECHADA                 SUPORTE   \n",
       "\n",
       "                                   servico                operacaoservico  \\\n",
       "0                             PONTO DA SOF    DIAGNOSTICAR ERROS E FALHAS   \n",
       "1                              EXPRESSO V3    DIAGNOSTICAR ERROS E FALHAS   \n",
       "2  SEI (SISTEMA ELETR├öNICO DE INFORMA├ç├òES)              CADASTRAR USU├üRIO   \n",
       "3             SERVIDOR DE ARQUIVOS (PDCMP)  CONFIGURACAO DO ARMAZENAMENTO   \n",
       "4                      ESTA├ç├âO DE TRABALHO                   TROCAR MOUSE   \n",
       "\n",
       "  tiposolicitacao arearesponsavelservico  duracaoHoras  \n",
       "0       INCIDENTE           CIT-SISTEMAS        1.7858  \n",
       "1       INCIDENTE           CIT-SISTEMAS        1.7692  \n",
       "2      REQUISI├ç├âO           CIT-SISTEMAS       24.5168  \n",
       "3      REQUISI├ç├âO            DTI-SUPORTE     1403.5436  \n",
       "4      REQUISI├ç├âO            CIT-PRES-DF       74.7758  "
      ]
     },
     "execution_count": 86,
     "metadata": {},
     "output_type": "execute_result"
    }
   ],
   "source": [
    "solicitacoes.head()"
   ]
  },
  {
   "cell_type": "code",
   "execution_count": 96,
   "metadata": {
    "collapsed": true
   },
   "outputs": [],
   "source": [
    "dadosClusterizacao = dadosClusterizacao = solicitacoes[['idsolicitacao','duracaoHoras',\\\n",
    "                                    'tiposolicitacao','gruposervico','servico','operacaoservico']]"
   ]
  },
  {
   "cell_type": "code",
   "execution_count": 97,
   "metadata": {
    "collapsed": false
   },
   "outputs": [
    {
     "data": {
      "text/plain": [
       "1"
      ]
     },
     "execution_count": 97,
     "metadata": {},
     "output_type": "execute_result"
    }
   ],
   "source": [
    "def fn_IsSolicitacaoServico(x):\n",
    "    if x == 'REQUISIÇÃO':\n",
    "        return 1\n",
    "    else:\n",
    "        return 0\n",
    "    \n",
    "fn_IsSolicitacaoServico('REQUISIÇÃO')   "
   ]
  },
  {
   "cell_type": "code",
   "execution_count": 98,
   "metadata": {
    "collapsed": false
   },
   "outputs": [],
   "source": [
    "dadosClusterizacao['IsSolicitacaoServico'] = dadosClusterizacao['tiposolicitacao'].apply(lambda x: fn_IsSolicitacaoServico(x))"
   ]
  },
  {
   "cell_type": "code",
   "execution_count": 99,
   "metadata": {
    "collapsed": false
   },
   "outputs": [],
   "source": [
    "dadosClusterizacao['ItemCatalogoServico'] = dadosClusterizacao['gruposervico'].astype(basestring) + ' - ' +  \\\n",
    "                            dadosClusterizacao['servico'].astype(basestring) + ' - ' + \\\n",
    "                            dadosClusterizacao['operacaoservico'].astype(basestring)"
   ]
  },
  {
   "cell_type": "code",
   "execution_count": 100,
   "metadata": {
    "collapsed": false
   },
   "outputs": [],
   "source": [
    "colunasDrop = [ 'gruposervico', 'servico', 'operacaoservico', 'tiposolicitacao']\n",
    "dadosClusterizacao.drop( colunasDrop, axis = 1 , inplace=True)\n"
   ]
  },
  {
   "cell_type": "code",
   "execution_count": 101,
   "metadata": {
    "collapsed": false
   },
   "outputs": [
    {
     "data": {
      "text/html": [
       "<div>\n",
       "<table border=\"1\" class=\"dataframe\">\n",
       "  <thead>\n",
       "    <tr style=\"text-align: right;\">\n",
       "      <th></th>\n",
       "      <th>idsolicitacao</th>\n",
       "      <th>duracaoHoras</th>\n",
       "      <th>IsSolicitacaoServico</th>\n",
       "      <th>ItemCatalogoServico</th>\n",
       "    </tr>\n",
       "  </thead>\n",
       "  <tbody>\n",
       "    <tr>\n",
       "      <th>0</th>\n",
       "      <td>3031</td>\n",
       "      <td>1.7858</td>\n",
       "      <td>0</td>\n",
       "      <td>APLICAÇÕES - PONTO DA SOF - DIAGNOSTICAR ERROS...</td>\n",
       "    </tr>\n",
       "    <tr>\n",
       "      <th>1</th>\n",
       "      <td>3032</td>\n",
       "      <td>1.7692</td>\n",
       "      <td>0</td>\n",
       "      <td>E-MAIL - EXPRESSO V3 - DIAGNOSTICAR ERROS E FA...</td>\n",
       "    </tr>\n",
       "    <tr>\n",
       "      <th>2</th>\n",
       "      <td>3033</td>\n",
       "      <td>24.5168</td>\n",
       "      <td>1</td>\n",
       "      <td>APLICAÇÕES - SEI (SISTEMA ELETRÔNICO DE INFORM...</td>\n",
       "    </tr>\n",
       "    <tr>\n",
       "      <th>3</th>\n",
       "      <td>3034</td>\n",
       "      <td>1403.5436</td>\n",
       "      <td>1</td>\n",
       "      <td>ARMAZENAMENTO DE DADOS - SERVIDOR DE ARQUIVOS ...</td>\n",
       "    </tr>\n",
       "    <tr>\n",
       "      <th>4</th>\n",
       "      <td>3037</td>\n",
       "      <td>74.7758</td>\n",
       "      <td>1</td>\n",
       "      <td>SUPORTE - ESTAÇÃO DE TRABALHO - TROCAR MOUSE</td>\n",
       "    </tr>\n",
       "  </tbody>\n",
       "</table>\n",
       "</div>"
      ],
      "text/plain": [
       "   idsolicitacao  duracaoHoras  IsSolicitacaoServico  \\\n",
       "0           3031        1.7858                     0   \n",
       "1           3032        1.7692                     0   \n",
       "2           3033       24.5168                     1   \n",
       "3           3034     1403.5436                     1   \n",
       "4           3037       74.7758                     1   \n",
       "\n",
       "                                 ItemCatalogoServico  \n",
       "0  APLICA├ç├òES - PONTO DA SOF - DIAGNOSTICAR ERROS...  \n",
       "1  E-MAIL - EXPRESSO V3 - DIAGNOSTICAR ERROS E FA...  \n",
       "2  APLICA├ç├òES - SEI (SISTEMA ELETR├öNICO DE INFORM...  \n",
       "3  ARMAZENAMENTO DE DADOS - SERVIDOR DE ARQUIVOS ...  \n",
       "4       SUPORTE - ESTA├ç├âO DE TRABALHO - TROCAR MOUSE  "
      ]
     },
     "execution_count": 101,
     "metadata": {},
     "output_type": "execute_result"
    }
   ],
   "source": [
    "dadosClusterizacao.head()"
   ]
  },
  {
   "cell_type": "code",
   "execution_count": 110,
   "metadata": {
    "collapsed": false
   },
   "outputs": [],
   "source": [
    "ItemCatalogoServicoGrupo =  dadosClusterizacao.groupby(['IsSolicitacaoServico','ItemCatalogoServico'])"
   ]
  },
  {
   "cell_type": "code",
   "execution_count": 113,
   "metadata": {
    "collapsed": false
   },
   "outputs": [],
   "source": [
    "def percentile(n):\n",
    "    def percentile_(x):\n",
    "        return np.percentile(x, n)\n",
    "    percentile_.__name__ = 'percentile_%s' % n\n",
    "    return percentile_"
   ]
  },
  {
   "cell_type": "code",
   "execution_count": null,
   "metadata": {
    "collapsed": true
   },
   "outputs": [],
   "source": []
  },
  {
   "cell_type": "code",
   "execution_count": 112,
   "metadata": {
    "collapsed": false,
    "scrolled": true
   },
   "outputs": [
    {
     "data": {
      "text/html": [
       "<div>\n",
       "<table border=\"1\" class=\"dataframe\">\n",
       "  <thead>\n",
       "    <tr style=\"text-align: right;\">\n",
       "      <th></th>\n",
       "      <th></th>\n",
       "      <th>mean</th>\n",
       "      <th>std</th>\n",
       "      <th>len</th>\n",
       "      <th>percentile_75</th>\n",
       "      <th>percentile_85</th>\n",
       "    </tr>\n",
       "    <tr>\n",
       "      <th>IsSolicitacaoServico</th>\n",
       "      <th>ItemCatalogoServico</th>\n",
       "      <th></th>\n",
       "      <th></th>\n",
       "      <th></th>\n",
       "      <th></th>\n",
       "      <th></th>\n",
       "    </tr>\n",
       "  </thead>\n",
       "  <tbody>\n",
       "    <tr>\n",
       "      <th rowspan=\"5\" valign=\"top\">0</th>\n",
       "      <th>APLICAÇÕES - ASIWEB - ESCLARECER DÚVIDAS</th>\n",
       "      <td>50.619950</td>\n",
       "      <td>17.383018</td>\n",
       "      <td>2</td>\n",
       "      <td>56.765775</td>\n",
       "      <td>59.224105</td>\n",
       "    </tr>\n",
       "    <tr>\n",
       "      <th>APLICAÇÕES - CADREDE - DIAGNOSTICAR ERROS E FALHAS</th>\n",
       "      <td>20.777350</td>\n",
       "      <td>28.824289</td>\n",
       "      <td>2</td>\n",
       "      <td>30.968275</td>\n",
       "      <td>35.044645</td>\n",
       "    </tr>\n",
       "    <tr>\n",
       "      <th>APLICAÇÕES - CIDI - ESCLARECER DÚVIDAS</th>\n",
       "      <td>178.411900</td>\n",
       "      <td>87.097901</td>\n",
       "      <td>4</td>\n",
       "      <td>185.757450</td>\n",
       "      <td>234.772470</td>\n",
       "    </tr>\n",
       "    <tr>\n",
       "      <th>APLICAÇÕES - CITSMART - DIAGNOSTICAR ERROS E FALHAS</th>\n",
       "      <td>36.855914</td>\n",
       "      <td>69.603501</td>\n",
       "      <td>7</td>\n",
       "      <td>20.069550</td>\n",
       "      <td>45.680960</td>\n",
       "    </tr>\n",
       "    <tr>\n",
       "      <th>APLICAÇÕES - CPROD - ESCLARECER DÚVIDAS</th>\n",
       "      <td>17.762200</td>\n",
       "      <td>NaN</td>\n",
       "      <td>1</td>\n",
       "      <td>17.762200</td>\n",
       "      <td>17.762200</td>\n",
       "    </tr>\n",
       "  </tbody>\n",
       "</table>\n",
       "</div>"
      ],
      "text/plain": [
       "                                                                               mean  \\\n",
       "IsSolicitacaoServico ItemCatalogoServico                                              \n",
       "0                    APLICA├ç├òES - ASIWEB - ESCLARECER D├ÜVIDAS             50.619950   \n",
       "                     APLICA├ç├òES - CADREDE - DIAGNOSTICAR ERROS E FALHAS   20.777350   \n",
       "                     APLICA├ç├òES - CIDI - ESCLARECER D├ÜVIDAS              178.411900   \n",
       "                     APLICA├ç├òES - CITSMART - DIAGNOSTICAR ERROS E FA...   36.855914   \n",
       "                     APLICA├ç├òES - CPROD - ESCLARECER D├ÜVIDAS              17.762200   \n",
       "\n",
       "                                                                               std  \\\n",
       "IsSolicitacaoServico ItemCatalogoServico                                             \n",
       "0                    APLICA├ç├òES - ASIWEB - ESCLARECER D├ÜVIDAS            17.383018   \n",
       "                     APLICA├ç├òES - CADREDE - DIAGNOSTICAR ERROS E FALHAS  28.824289   \n",
       "                     APLICA├ç├òES - CIDI - ESCLARECER D├ÜVIDAS              87.097901   \n",
       "                     APLICA├ç├òES - CITSMART - DIAGNOSTICAR ERROS E FA...  69.603501   \n",
       "                     APLICA├ç├òES - CPROD - ESCLARECER D├ÜVIDAS                   NaN   \n",
       "\n",
       "                                                                         len  \\\n",
       "IsSolicitacaoServico ItemCatalogoServico                                       \n",
       "0                    APLICA├ç├òES - ASIWEB - ESCLARECER D├ÜVIDAS              2   \n",
       "                     APLICA├ç├òES - CADREDE - DIAGNOSTICAR ERROS E FALHAS    2   \n",
       "                     APLICA├ç├òES - CIDI - ESCLARECER D├ÜVIDAS                4   \n",
       "                     APLICA├ç├òES - CITSMART - DIAGNOSTICAR ERROS E FA...    7   \n",
       "                     APLICA├ç├òES - CPROD - ESCLARECER D├ÜVIDAS               1   \n",
       "\n",
       "                                                                         percentile_75  \\\n",
       "IsSolicitacaoServico ItemCatalogoServico                                                 \n",
       "0                    APLICA├ç├òES - ASIWEB - ESCLARECER D├ÜVIDAS                56.765775   \n",
       "                     APLICA├ç├òES - CADREDE - DIAGNOSTICAR ERROS E FALHAS      30.968275   \n",
       "                     APLICA├ç├òES - CIDI - ESCLARECER D├ÜVIDAS                 185.757450   \n",
       "                     APLICA├ç├òES - CITSMART - DIAGNOSTICAR ERROS E FA...      20.069550   \n",
       "                     APLICA├ç├òES - CPROD - ESCLARECER D├ÜVIDAS                 17.762200   \n",
       "\n",
       "                                                                         percentile_85  \n",
       "IsSolicitacaoServico ItemCatalogoServico                                                \n",
       "0                    APLICA├ç├òES - ASIWEB - ESCLARECER D├ÜVIDAS                59.224105  \n",
       "                     APLICA├ç├òES - CADREDE - DIAGNOSTICAR ERROS E FALHAS      35.044645  \n",
       "                     APLICA├ç├òES - CIDI - ESCLARECER D├ÜVIDAS                 234.772470  \n",
       "                     APLICA├ç├òES - CITSMART - DIAGNOSTICAR ERROS E FA...      45.680960  \n",
       "                     APLICA├ç├òES - CPROD - ESCLARECER D├ÜVIDAS                 17.762200  "
      ]
     },
     "execution_count": 112,
     "metadata": {},
     "output_type": "execute_result"
    }
   ],
   "source": [
    "ResumoItemCatalogo =  ItemCatalogoServicoGrupo['duracaoHoras'].agg([np.mean, np.std, len, percentile(75), percentile(85)])\n",
    "ResumoItemCatalogo.head()"
   ]
  },
  {
   "cell_type": "code",
   "execution_count": 114,
   "metadata": {
    "collapsed": false,
    "scrolled": true
   },
   "outputs": [
    {
     "data": {
      "text/html": [
       "<div>\n",
       "<table border=\"1\" class=\"dataframe\">\n",
       "  <thead>\n",
       "    <tr style=\"text-align: right;\">\n",
       "      <th></th>\n",
       "      <th>IsSolicitacaoServico</th>\n",
       "      <th>ItemCatalogoServico</th>\n",
       "      <th>mean</th>\n",
       "      <th>std</th>\n",
       "      <th>len</th>\n",
       "      <th>percentile_75</th>\n",
       "      <th>percentile_85</th>\n",
       "    </tr>\n",
       "  </thead>\n",
       "  <tbody>\n",
       "    <tr>\n",
       "      <th>0</th>\n",
       "      <td>0</td>\n",
       "      <td>APLICAÇÕES - ASIWEB - ESCLARECER DÚVIDAS</td>\n",
       "      <td>50.619950</td>\n",
       "      <td>17.383018</td>\n",
       "      <td>2</td>\n",
       "      <td>56.765775</td>\n",
       "      <td>59.224105</td>\n",
       "    </tr>\n",
       "    <tr>\n",
       "      <th>1</th>\n",
       "      <td>0</td>\n",
       "      <td>APLICAÇÕES - CADREDE - DIAGNOSTICAR ERROS E FA...</td>\n",
       "      <td>20.777350</td>\n",
       "      <td>28.824289</td>\n",
       "      <td>2</td>\n",
       "      <td>30.968275</td>\n",
       "      <td>35.044645</td>\n",
       "    </tr>\n",
       "    <tr>\n",
       "      <th>2</th>\n",
       "      <td>0</td>\n",
       "      <td>APLICAÇÕES - CIDI - ESCLARECER DÚVIDAS</td>\n",
       "      <td>178.411900</td>\n",
       "      <td>87.097901</td>\n",
       "      <td>4</td>\n",
       "      <td>185.757450</td>\n",
       "      <td>234.772470</td>\n",
       "    </tr>\n",
       "    <tr>\n",
       "      <th>3</th>\n",
       "      <td>0</td>\n",
       "      <td>APLICAÇÕES - CITSMART - DIAGNOSTICAR ERROS E F...</td>\n",
       "      <td>36.855914</td>\n",
       "      <td>69.603501</td>\n",
       "      <td>7</td>\n",
       "      <td>20.069550</td>\n",
       "      <td>45.680960</td>\n",
       "    </tr>\n",
       "    <tr>\n",
       "      <th>4</th>\n",
       "      <td>0</td>\n",
       "      <td>APLICAÇÕES - CPROD - ESCLARECER DÚVIDAS</td>\n",
       "      <td>17.762200</td>\n",
       "      <td>NaN</td>\n",
       "      <td>1</td>\n",
       "      <td>17.762200</td>\n",
       "      <td>17.762200</td>\n",
       "    </tr>\n",
       "  </tbody>\n",
       "</table>\n",
       "</div>"
      ],
      "text/plain": [
       "   IsSolicitacaoServico                                ItemCatalogoServico  \\\n",
       "0                     0           APLICA├ç├òES - ASIWEB - ESCLARECER D├ÜVIDAS   \n",
       "1                     0  APLICA├ç├òES - CADREDE - DIAGNOSTICAR ERROS E FA...   \n",
       "2                     0             APLICA├ç├òES - CIDI - ESCLARECER D├ÜVIDAS   \n",
       "3                     0  APLICA├ç├òES - CITSMART - DIAGNOSTICAR ERROS E F...   \n",
       "4                     0            APLICA├ç├òES - CPROD - ESCLARECER D├ÜVIDAS   \n",
       "\n",
       "         mean        std  len  percentile_75  percentile_85  \n",
       "0   50.619950  17.383018    2      56.765775      59.224105  \n",
       "1   20.777350  28.824289    2      30.968275      35.044645  \n",
       "2  178.411900  87.097901    4     185.757450     234.772470  \n",
       "3   36.855914  69.603501    7      20.069550      45.680960  \n",
       "4   17.762200        NaN    1      17.762200      17.762200  "
      ]
     },
     "execution_count": 114,
     "metadata": {},
     "output_type": "execute_result"
    }
   ],
   "source": [
    "ResumoItemCatalogo = ResumoItemCatalogo.reset_index()\n",
    "ResumoItemCatalogo.head()"
   ]
  },
  {
   "cell_type": "markdown",
   "metadata": {},
   "source": [
    "* __Elimina da análise os itens que não tenho pelo menos 5 chamados__"
   ]
  },
  {
   "cell_type": "code",
   "execution_count": 120,
   "metadata": {
    "collapsed": false
   },
   "outputs": [
    {
     "data": {
      "text/plain": [
       "110"
      ]
     },
     "execution_count": 120,
     "metadata": {},
     "output_type": "execute_result"
    }
   ],
   "source": [
    "len(ResumoItemCatalogo[ResumoItemCatalogo['len']< 3])"
   ]
  },
  {
   "cell_type": "code",
   "execution_count": 119,
   "metadata": {
    "collapsed": false
   },
   "outputs": [
    {
     "data": {
      "text/plain": [
       "223"
      ]
     },
     "execution_count": 119,
     "metadata": {},
     "output_type": "execute_result"
    }
   ],
   "source": [
    "len(ResumoItemCatalogo[ResumoItemCatalogo['len']>= 3])"
   ]
  },
  {
   "cell_type": "code",
   "execution_count": 122,
   "metadata": {
    "collapsed": false
   },
   "outputs": [
    {
     "data": {
      "text/plain": [
       "IsSolicitacaoServico      int64\n",
       "ItemCatalogoServico      object\n",
       "mean                    float64\n",
       "std                     float64\n",
       "len                     float64\n",
       "percentile_75           float64\n",
       "percentile_85           float64\n",
       "dtype: object"
      ]
     },
     "execution_count": 122,
     "metadata": {},
     "output_type": "execute_result"
    }
   ],
   "source": [
    "ResumoItemCatalogo.dtypes"
   ]
  },
  {
   "cell_type": "markdown",
   "metadata": {},
   "source": [
    "## Realizar a clusterização dos itens do catálogo"
   ]
  },
  {
   "cell_type": "code",
   "execution_count": 163,
   "metadata": {
    "collapsed": false
   },
   "outputs": [],
   "source": [
    "from scipy.cluster.vq import kmeans2, kmeans,vq\n",
    "dadosfinaisCluster = ResumoItemCatalogo[['IsSolicitacaoServico','percentile_75']]\n"
   ]
  },
  {
   "cell_type": "code",
   "execution_count": 164,
   "metadata": {
    "collapsed": false
   },
   "outputs": [
    {
     "data": {
      "text/html": [
       "<div>\n",
       "<table border=\"1\" class=\"dataframe\">\n",
       "  <thead>\n",
       "    <tr style=\"text-align: right;\">\n",
       "      <th></th>\n",
       "      <th>IsSolicitacaoServico</th>\n",
       "      <th>percentile_75</th>\n",
       "    </tr>\n",
       "  </thead>\n",
       "  <tbody>\n",
       "    <tr>\n",
       "      <th>0</th>\n",
       "      <td>0</td>\n",
       "      <td>56.765775</td>\n",
       "    </tr>\n",
       "    <tr>\n",
       "      <th>1</th>\n",
       "      <td>0</td>\n",
       "      <td>30.968275</td>\n",
       "    </tr>\n",
       "    <tr>\n",
       "      <th>2</th>\n",
       "      <td>0</td>\n",
       "      <td>185.757450</td>\n",
       "    </tr>\n",
       "    <tr>\n",
       "      <th>3</th>\n",
       "      <td>0</td>\n",
       "      <td>20.069550</td>\n",
       "    </tr>\n",
       "    <tr>\n",
       "      <th>4</th>\n",
       "      <td>0</td>\n",
       "      <td>17.762200</td>\n",
       "    </tr>\n",
       "  </tbody>\n",
       "</table>\n",
       "</div>"
      ],
      "text/plain": [
       "   IsSolicitacaoServico  percentile_75\n",
       "0                     0      56.765775\n",
       "1                     0      30.968275\n",
       "2                     0     185.757450\n",
       "3                     0      20.069550\n",
       "4                     0      17.762200"
      ]
     },
     "execution_count": 164,
     "metadata": {},
     "output_type": "execute_result"
    }
   ],
   "source": [
    "dadosfinaisCluster.head()"
   ]
  },
  {
   "cell_type": "code",
   "execution_count": 184,
   "metadata": {
    "collapsed": false
   },
   "outputs": [
    {
     "data": {
      "text/html": [
       "<div>\n",
       "<table border=\"1\" class=\"dataframe\">\n",
       "  <thead>\n",
       "    <tr>\n",
       "      <th></th>\n",
       "      <th>len</th>\n",
       "    </tr>\n",
       "    <tr>\n",
       "      <th></th>\n",
       "      <th>percentile_75</th>\n",
       "    </tr>\n",
       "    <tr>\n",
       "      <th>cluster</th>\n",
       "      <th></th>\n",
       "    </tr>\n",
       "  </thead>\n",
       "  <tbody>\n",
       "    <tr>\n",
       "      <th>0</th>\n",
       "      <td>260</td>\n",
       "    </tr>\n",
       "    <tr>\n",
       "      <th>1</th>\n",
       "      <td>21</td>\n",
       "    </tr>\n",
       "    <tr>\n",
       "      <th>2</th>\n",
       "      <td>52</td>\n",
       "    </tr>\n",
       "  </tbody>\n",
       "</table>\n",
       "</div>"
      ],
      "text/plain": [
       "                  len\n",
       "        percentile_75\n",
       "cluster              \n",
       "0                 260\n",
       "1                  21\n",
       "2                  52"
      ]
     },
     "execution_count": 184,
     "metadata": {},
     "output_type": "execute_result"
    }
   ],
   "source": [
    "# computing K-Means with K = 2 (2 clusters)\n",
    "centroids, labels = kmeans2(dadosfinaisCluster,3,minit='random')\n",
    "idx,_ = vq(dadosfinaisCluster,centroids)\n",
    "dadosfinaisCluster['cluster'] = idx\n",
    "pd.pivot_table(dadosfinaisCluster,index=[\"cluster\"],\\\n",
    "               values=[\"percentile_75\"],aggfunc=[len])"
   ]
  },
  {
   "cell_type": "code",
   "execution_count": 185,
   "metadata": {
    "collapsed": false
   },
   "outputs": [
    {
     "data": {
      "text/html": [
       "<div>\n",
       "<table border=\"1\" class=\"dataframe\">\n",
       "  <thead>\n",
       "    <tr style=\"text-align: right;\">\n",
       "      <th></th>\n",
       "      <th>IsSolicitacaoServico</th>\n",
       "      <th>percentile_75</th>\n",
       "      <th>cluster</th>\n",
       "    </tr>\n",
       "  </thead>\n",
       "  <tbody>\n",
       "    <tr>\n",
       "      <th>0</th>\n",
       "      <td>0</td>\n",
       "      <td>56.765775</td>\n",
       "      <td>0</td>\n",
       "    </tr>\n",
       "    <tr>\n",
       "      <th>1</th>\n",
       "      <td>0</td>\n",
       "      <td>30.968275</td>\n",
       "      <td>0</td>\n",
       "    </tr>\n",
       "    <tr>\n",
       "      <th>2</th>\n",
       "      <td>0</td>\n",
       "      <td>185.757450</td>\n",
       "      <td>2</td>\n",
       "    </tr>\n",
       "    <tr>\n",
       "      <th>3</th>\n",
       "      <td>0</td>\n",
       "      <td>20.069550</td>\n",
       "      <td>0</td>\n",
       "    </tr>\n",
       "    <tr>\n",
       "      <th>4</th>\n",
       "      <td>0</td>\n",
       "      <td>17.762200</td>\n",
       "      <td>0</td>\n",
       "    </tr>\n",
       "  </tbody>\n",
       "</table>\n",
       "</div>"
      ],
      "text/plain": [
       "   IsSolicitacaoServico  percentile_75  cluster\n",
       "0                     0      56.765775        0\n",
       "1                     0      30.968275        0\n",
       "2                     0     185.757450        2\n",
       "3                     0      20.069550        0\n",
       "4                     0      17.762200        0"
      ]
     },
     "execution_count": 185,
     "metadata": {},
     "output_type": "execute_result"
    }
   ],
   "source": [
    "dadosfinaisCluster.head()"
   ]
  },
  {
   "cell_type": "code",
   "execution_count": 237,
   "metadata": {
    "collapsed": false
   },
   "outputs": [],
   "source": [
    "dadosQtCluster = ResumoItemCatalogo[['IsSolicitacaoServico','percentile_75','len']]\n",
    "\n",
    "K = range(1,10)\n",
    "\n",
    "# scipy.cluster.vq.kmeans\n",
    "KM = [kmeans(dadosQtCluster,k) for k in K]\n",
    "centroids = [cent for (cent,var) in KM]  \n",
    "\n"
   ]
  },
  {
   "cell_type": "code",
   "execution_count": 238,
   "metadata": {
    "collapsed": false
   },
   "outputs": [],
   "source": [
    "from scipy.spatial.distance import cdist\n",
    "D_k = [cdist(dadosQtCluster, cent, 'euclidean') for cent in centroids]\n",
    "cIdx = [np.argmin(D,axis=1) for D in D_k]\n",
    "dist = [np.min(D,axis=1) for D in D_k]\n",
    "avgWithinSS = [sum(d)/dadosQtCluster.shape[0] for d in dist]\n"
   ]
  },
  {
   "cell_type": "code",
   "execution_count": 239,
   "metadata": {
    "collapsed": false
   },
   "outputs": [
    {
     "data": {
      "text/plain": [
       "<matplotlib.text.Text at 0x46950da0>"
      ]
     },
     "execution_count": 239,
     "metadata": {},
     "output_type": "execute_result"
    },
    {
     "data": {
      "image/png": "[encoded data removed]",
      "text/plain": [
       "<matplotlib.figure.Figure at 0x45da74e0>"
      ]
     },
     "metadata": {},
     "output_type": "display_data"
    }
   ],
   "source": [
    "kIdx = 4\n",
    "\n",
    "# elbow curve\n",
    "fig = plt.figure()\n",
    "ax = fig.add_subplot(111)\n",
    "ax.plot(K, avgWithinSS, 'b*-')\n",
    "ax.plot(K[kIdx], avgWithinSS[kIdx], marker='o', markersize=12, \n",
    "    markeredgewidth=2, markeredgecolor='r', markerfacecolor='None')\n",
    "plt.grid(True)\n",
    "plt.xlabel('Number of clusters')\n",
    "plt.ylabel('Average within-cluster sum of squares')\n",
    "plt.title('Elbow for KMeans clustering')\n",
    "\n"
   ]
  },
  {
   "cell_type": "code",
   "execution_count": 240,
   "metadata": {
    "collapsed": false
   },
   "outputs": [
    {
     "data": {
      "image/png": "[encoded data removed]",
      "text/plain": [
       "<matplotlib.figure.Figure at 0x3e811390>"
      ]
     },
     "metadata": {},
     "output_type": "display_data"
    }
   ],
   "source": [
    "# scatter plot\n",
    "fig = plt.figure()\n",
    "ax = fig.add_subplot(111)\n",
    "#ax.scatter(X[:,2],X[:,1], s=30, c=cIdx[k])\n",
    "clr = ['b','g','r','c','m','y','k']\n",
    "for i in range(K[kIdx]):\n",
    "    ind = (cIdx[kIdx]==i)\n",
    "    ax.scatter(dadosQtCluster.loc[ind].IsSolicitacaoServico,dadosQtCluster.loc[ind].percentile_75, s=30, c=clr[i], \\\n",
    "               label='Cluster %d'%i)\n",
    "plt.xlabel('IsSolicitacaoServico')\n",
    "plt.ylabel('percentile_75')\n",
    "plt.title('Catálogo de Serviços, Clusterização KMeans clustering com  K=%d' % K[kIdx])\n",
    "plt.legend()\n",
    "\n",
    "plt.show()\n",
    "\n"
   ]
  },
  {
   "cell_type": "code",
   "execution_count": 241,
   "metadata": {
    "collapsed": false,
    "scrolled": true
   },
   "outputs": [
    {
     "data": {
      "text/html": [
       "<div>\n",
       "<table border=\"1\" class=\"dataframe\">\n",
       "  <thead>\n",
       "    <tr style=\"text-align: right;\">\n",
       "      <th></th>\n",
       "      <th>IsSolicitacaoServico</th>\n",
       "      <th>percentile_75</th>\n",
       "    </tr>\n",
       "  </thead>\n",
       "  <tbody>\n",
       "    <tr>\n",
       "      <th>6</th>\n",
       "      <td>0</td>\n",
       "      <td>471.744400</td>\n",
       "    </tr>\n",
       "    <tr>\n",
       "      <th>12</th>\n",
       "      <td>0</td>\n",
       "      <td>704.123875</td>\n",
       "    </tr>\n",
       "    <tr>\n",
       "      <th>31</th>\n",
       "      <td>0</td>\n",
       "      <td>783.545550</td>\n",
       "    </tr>\n",
       "    <tr>\n",
       "      <th>33</th>\n",
       "      <td>0</td>\n",
       "      <td>519.564975</td>\n",
       "    </tr>\n",
       "    <tr>\n",
       "      <th>34</th>\n",
       "      <td>0</td>\n",
       "      <td>690.069200</td>\n",
       "    </tr>\n",
       "  </tbody>\n",
       "</table>\n",
       "</div>"
      ],
      "text/plain": [
       "    IsSolicitacaoServico  percentile_75\n",
       "6                      0     471.744400\n",
       "12                     0     704.123875\n",
       "31                     0     783.545550\n",
       "33                     0     519.564975\n",
       "34                     0     690.069200"
      ]
     },
     "execution_count": 241,
     "metadata": {},
     "output_type": "execute_result"
    }
   ],
   "source": [
    "dadosfinaisCluster.loc[dadosfinaisCluster.cluster == 1][['IsSolicitacaoServico', 'percentile_75']].head()\n"
   ]
  },
  {
   "cell_type": "code",
   "execution_count": 243,
   "metadata": {
    "collapsed": false
   },
   "outputs": [
    {
     "data": {
      "image/png": "[encoded data removed]",
      "text/plain": [
       "<matplotlib.figure.Figure at 0x3e13c898>"
      ]
     },
     "metadata": {},
     "output_type": "display_data"
    }
   ],
   "source": [
    "from mpl_toolkits.mplot3d import Axes3D\n",
    "import matplotlib.pyplot as plt\n",
    "\n",
    "\n",
    "fig = plt.figure()\n",
    "ax = fig.add_subplot(111, projection='3d')\n",
    "\n",
    "x =dadosQtCluster.IsSolicitacaoServico\n",
    "y =dadosQtCluster.percentile_75\n",
    "z =dadosQtCluster.len\n",
    "             \n",
    "ax.scatter(x, y, z, c='r', marker='o')\n",
    "\n",
    "ax.set_xlabel('IsSolicitacaoServico')\n",
    "ax.set_ylabel('percentile_75')\n",
    "ax.set_zlabel('len')\n",
    "\n",
    "plt.show()"
   ]
  }
 ],
 "metadata": {
  "kernelspec": {
   "display_name": "Python 2",
   "language": "python",
   "name": "python2"
  },
  "language_info": {
   "codemirror_mode": {
    "name": "ipython",
    "version": 2
   },
   "file_extension": ".py",
   "mimetype": "text/x-python",
   "name": "python",
   "nbconvert_exporter": "python",
   "pygments_lexer": "ipython2",
   "version": "2.7.11"
  }
 },
 "nbformat": 4,
 "nbformat_minor": 0
}
